{
 "cells": [
  {
   "cell_type": "markdown",
   "metadata": {},
   "source": [
    "# Script for reading Serial port to get sensors values \n",
    "\n",
    "Change the serial port to the good one (Devices Manager on Windows).  \n",
    "Restart whole kernel if problem."
   ]
  },
  {
   "cell_type": "code",
   "execution_count": 1,
   "metadata": {},
   "outputs": [
    {
     "name": "stdout",
     "output_type": "stream",
     "text": [
      "\n",
      " Meaning buffer : \n",
      "[[0. 0. 0. 0.]]\n",
      "\n",
      " Average distances written to :  ./content/measures.csv\n",
      "   IR0_meas  IR1_meas  IR2_meas  IR3_meas\n",
      "0       0.0       0.0       0.0       0.0\n",
      "\n",
      "\n"
     ]
    }
   ],
   "source": [
    "import serial\n",
    "import time \n",
    "import pandas as pd\n",
    "import numpy as np\n",
    "import os\n",
    "from IPython.display import clear_output\n",
    "\n",
    "ESP_serial = serial.Serial('COM6',9600)\n",
    "\n",
    "header = [\"IR0_meas\", \"IR1_meas\", \"IR2_meas\", \"IR3_meas\"]\n",
    "path = \"./content/measures.csv\"\n",
    "\n",
    "# meas_data = np.random.rand(1,4)\n",
    "# meas_df = pd.DataFrame(meas_data,columns = header)\n",
    "# meas_df.to_csv(path,index=False, mode='a', header=not os.path.exists(path))\n",
    "\n",
    "mean_buff = []\n",
    "\n",
    "\n",
    "i = 0\n",
    "mean_nbr = 1\n",
    "\n",
    "\n",
    "try:\n",
    "    while True :\n",
    "\n",
    "        data_read = ESP_serial.readline().decode('utf-8')[:-1]\n",
    "        print(\"\\rReceiving data...\")\n",
    "        split = data_read.split(\",\")\n",
    "        meas_data = []\n",
    "        for each in split :\n",
    "            meas_data.append(float(each))\n",
    "        mean_buff.append(meas_data)\n",
    "\n",
    "        i=i+1\n",
    "        if i >= mean_nbr :\n",
    "\n",
    "            row = np.mean(np.array(mean_buff), axis=0)\n",
    "            # save to csv\n",
    "            meas_df = pd.DataFrame(np.array([row]),columns = header)\n",
    "            meas_df.to_csv(path,index=False, mode='w')\n",
    "\n",
    "            clear_output(wait=True)\n",
    "            print(\"\\n Meaning buffer : \")   \n",
    "            print(np.array(mean_buff))\n",
    "            print(\"\\n Average distances written to : \", path)\n",
    "            print(meas_df)\n",
    "            print(\"\\n\")\n",
    "            \n",
    "            # reset variables\n",
    "            mean_buff = []\n",
    "            i = 0\n",
    "\n",
    "        time.sleep(0.1)\n",
    "except KeyboardInterrupt:\n",
    "    ESP_serial.close()\n",
    "    print(\"interrupt\")\n",
    "    pass"
   ]
  },
  {
   "cell_type": "code",
   "execution_count": 2,
   "metadata": {},
   "outputs": [
    {
     "ename": "NameError",
     "evalue": "name 'ESP_serial' is not defined",
     "output_type": "error",
     "traceback": [
      "\u001b[1;31m---------------------------------------------------------------------------\u001b[0m",
      "\u001b[1;31mNameError\u001b[0m                                 Traceback (most recent call last)",
      "\u001b[1;32m~\\AppData\\Local\\Temp\\ipykernel_6120\\4075423904.py\u001b[0m in \u001b[0;36m<module>\u001b[1;34m\u001b[0m\n\u001b[1;32m----> 1\u001b[1;33m \u001b[0mESP_serial\u001b[0m\u001b[1;33m.\u001b[0m\u001b[0mclose\u001b[0m\u001b[1;33m(\u001b[0m\u001b[1;33m)\u001b[0m\u001b[1;33m\u001b[0m\u001b[1;33m\u001b[0m\u001b[0m\n\u001b[0m",
      "\u001b[1;31mNameError\u001b[0m: name 'ESP_serial' is not defined"
     ]
    }
   ],
   "source": [
    "ESP_serial.close()"
   ]
  }
 ],
 "metadata": {
  "kernelspec": {
   "display_name": "Python 3.7.3 32-bit",
   "language": "python",
   "name": "python3"
  },
  "language_info": {
   "codemirror_mode": {
    "name": "ipython",
    "version": 3
   },
   "file_extension": ".py",
   "mimetype": "text/x-python",
   "name": "python",
   "nbconvert_exporter": "python",
   "pygments_lexer": "ipython3",
   "version": "3.7.3"
  },
  "orig_nbformat": 4,
  "vscode": {
   "interpreter": {
    "hash": "8999ca217b2fa3fb8875d9227edfd6c20266cf632b7380cda2ffe3df3689d7c1"
   }
  }
 },
 "nbformat": 4,
 "nbformat_minor": 2
}
